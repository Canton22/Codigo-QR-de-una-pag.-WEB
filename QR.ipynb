{
 "cells": [
  {
   "cell_type": "code",
   "execution_count": 2,
   "id": "0cbb8b78",
   "metadata": {},
   "outputs": [],
   "source": [
    "import qrcode\n",
    "import qrcode.constants"
   ]
  },
  {
   "cell_type": "code",
   "execution_count": 5,
   "id": "230a0da4",
   "metadata": {},
   "outputs": [
    {
     "name": "stdout",
     "output_type": "stream",
     "text": [
      "ok\n"
     ]
    }
   ],
   "source": [
    "pdf_url = \"https://www.nebrija.es/~cmalagon/ia/transparencias/introduccion_IA.pdf\"\n",
    "\n",
    "qr = qrcode.QRCode(\n",
    "    version=1,\n",
    "    error_correction=qrcode.constants.ERROR_CORRECT_L,\n",
    "    box_size=10,\n",
    "    border=5\n",
    ")\n",
    "\n",
    "qr.add_data(pdf_url)\n",
    "qr.make(fit=True)\n",
    "\n",
    "Img = qr.make_image(fill=\"black\", backcolor=\"white\")\n",
    "Img.save(\"qr_code_pdf.png\")\n",
    "\n",
    "print(\"ok\")"
   ]
  },
  {
   "cell_type": "code",
   "execution_count": null,
   "id": "0625000a",
   "metadata": {},
   "outputs": [],
   "source": []
  }
 ],
 "metadata": {
  "kernelspec": {
   "display_name": "Python 3",
   "language": "python",
   "name": "python3"
  },
  "language_info": {
   "codemirror_mode": {
    "name": "ipython",
    "version": 3
   },
   "file_extension": ".py",
   "mimetype": "text/x-python",
   "name": "python",
   "nbconvert_exporter": "python",
   "pygments_lexer": "ipython3",
   "version": "3.13.1"
  }
 },
 "nbformat": 4,
 "nbformat_minor": 5
}
